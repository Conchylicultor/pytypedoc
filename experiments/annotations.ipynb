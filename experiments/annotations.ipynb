{
 "cells": [
  {
   "cell_type": "code",
   "execution_count": 1,
   "metadata": {},
   "outputs": [
    {
     "name": "stdout",
     "output_type": "stream",
     "text": [
      "Collecting byteplay3\n",
      "  Downloading byteplay3-3.5.0.tar.gz (23 kB)\n",
      "Building wheels for collected packages: byteplay3\n",
      "  Building wheel for byteplay3 (setup.py) ... \u001b[?25ldone\n",
      "\u001b[?25h  Created wheel for byteplay3: filename=byteplay3-3.5.0-py3-none-any.whl size=22242 sha256=bfb32608557d9aac49cf5ce9d11d8395756467bcdf31b2383cdfd035d4bd619a\n",
      "  Stored in directory: /Users/epot/Library/Caches/pip/wheels/f0/2e/95/6da3f6d99a4b8e5a793e22d04da2b1221115719e22729f57d4\n",
      "Successfully built byteplay3\n",
      "Installing collected packages: byteplay3\n",
      "Successfully installed byteplay3-3.5.0\n",
      "\u001b[33mWARNING: You are using pip version 21.2.3; however, version 22.0.4 is available.\n",
      "You should consider upgrading via the '/Users/epot/.pyenv/versions/3.10.0/bin/python -m pip install --upgrade pip' command.\u001b[0m\n",
      "Note: you may need to restart the kernel to use updated packages.\n"
     ]
    }
   ],
   "source": [
    "%pip install byteplay3"
   ]
  },
  {
   "cell_type": "code",
   "execution_count": 2,
   "metadata": {},
   "outputs": [
    {
     "ename": "NameError",
     "evalue": "name 'WITH_CLEANUP_START' is not defined",
     "output_type": "error",
     "traceback": [
      "\u001b[0;31m---------------------------------------------------------------------------\u001b[0m",
      "\u001b[0;31mNameError\u001b[0m                                 Traceback (most recent call last)",
      "\u001b[1;32m/Users/epot/__A__/Code/pytypedoc/annotations.ipynb Cell 2'\u001b[0m in \u001b[0;36m<cell line: 1>\u001b[0;34m()\u001b[0m\n\u001b[0;32m----> <a href='vscode-notebook-cell:/Users/epot/__A__/Code/pytypedoc/annotations.ipynb#ch0000001?line=0'>1</a>\u001b[0m \u001b[39mimport\u001b[39;00m \u001b[39mbyteplay3\u001b[39;00m\n",
      "File \u001b[0;32m~/.pyenv/versions/3.10.0/lib/python3.10/site-packages/byteplay3.py:341\u001b[0m, in \u001b[0;36m<module>\u001b[0;34m\u001b[0m\n\u001b[1;32m    <a href='file:///Users/epot/.pyenv/versions/3.10.0/lib/python3.10/site-packages/byteplay3.py?line=338'>339</a>\u001b[0m     _WITH_CLEANUP_OPCODE \u001b[39m=\u001b[39m WITH_CLEANUP\n\u001b[1;32m    <a href='file:///Users/epot/.pyenv/versions/3.10.0/lib/python3.10/site-packages/byteplay3.py?line=339'>340</a>\u001b[0m \u001b[39melse\u001b[39;00m :\n\u001b[0;32m--> <a href='file:///Users/epot/.pyenv/versions/3.10.0/lib/python3.10/site-packages/byteplay3.py?line=340'>341</a>\u001b[0m     _WITH_CLEANUP_OPCODE \u001b[39m=\u001b[39m WITH_CLEANUP_START\n\u001b[1;32m    <a href='file:///Users/epot/.pyenv/versions/3.10.0/lib/python3.10/site-packages/byteplay3.py?line=342'>343</a>\u001b[0m \u001b[39m# Add opcode.cmp_op to our API (the name \"cmp_op\" is in __all__ already). It\u001b[39;00m\n\u001b[1;32m    <a href='file:///Users/epot/.pyenv/versions/3.10.0/lib/python3.10/site-packages/byteplay3.py?line=343'>344</a>\u001b[0m \u001b[39m# is a tuple of the Python comparison operator names such as \"<=\" and \"is\u001b[39;00m\n\u001b[1;32m    <a href='file:///Users/epot/.pyenv/versions/3.10.0/lib/python3.10/site-packages/byteplay3.py?line=344'>345</a>\u001b[0m \u001b[39m# not\". These are the strings that can appear as the argument value of the\u001b[39;00m\n\u001b[1;32m    <a href='file:///Users/epot/.pyenv/versions/3.10.0/lib/python3.10/site-packages/byteplay3.py?line=345'>346</a>\u001b[0m \u001b[39m# COMPARE_OP bytecode.\u001b[39;00m\n\u001b[1;32m    <a href='file:///Users/epot/.pyenv/versions/3.10.0/lib/python3.10/site-packages/byteplay3.py?line=347'>348</a>\u001b[0m cmp_op \u001b[39m=\u001b[39m opcode\u001b[39m.\u001b[39mcmp_op\n",
      "\u001b[0;31mNameError\u001b[0m: name 'WITH_CLEANUP_START' is not defined"
     ]
    }
   ],
   "source": [
    "import byteplay3"
   ]
  },
  {
   "cell_type": "code",
   "execution_count": 1,
   "metadata": {},
   "outputs": [],
   "source": [
    "from typing import *"
   ]
  },
  {
   "cell_type": "code",
   "execution_count": 3,
   "metadata": {},
   "outputs": [],
   "source": [
    "from etils.ecolab.lazy_imports import *"
   ]
  },
  {
   "cell_type": "code",
   "execution_count": 6,
   "metadata": {},
   "outputs": [],
   "source": [
    "import lark"
   ]
  },
  {
   "cell_type": "code",
   "execution_count": 17,
   "metadata": {},
   "outputs": [
    {
     "name": "stdout",
     "output_type": "stream",
     "text": [
      "Tree(Token('RULE', 'shape'), [None])\n",
      "(None,)\n"
     ]
    }
   ],
   "source": [
    "_Dim = Optional[int]\n",
    "_Shape = Tuple[_Dim, ...]\n",
    "\n",
    "_DimAst = Union[int, None, '_NamedDim', '_VarDim']\n",
    "_ShapeAst = Tuple[_DimAst, ...]\n",
    "\n",
    "\n",
    "@dataclasses.dataclass(frozen=True, eq=True)\n",
    "class _NamedDim:\n",
    "  name: str\n",
    "\n",
    "\n",
    "@dataclasses.dataclass(frozen=True, eq=True)\n",
    "class _VarDim:\n",
    "  name: str\n",
    "\n",
    "\n",
    "@dataclasses.dataclass\n",
    "class _Constant:\n",
    "  value: Any\n",
    "\n",
    "  def __call__(self, _) -> Any:\n",
    "    return self.value\n",
    "\n",
    "\n",
    "class _TreeShapeTransformer(lark.Transformer):\n",
    "  \"\"\"Transform the tree into value.\"\"\"\n",
    "  shape = tuple\n",
    "  DIM = int\n",
    "\n",
    "\n",
    "_GRAMMAR = \"\"\"\n",
    "?start: shape\n",
    "\n",
    "shape: [DIM (\" \" DIM)*]\n",
    "\n",
    "DIM: INT\n",
    "\n",
    "%import common.INT\n",
    "\"\"\"\n",
    "\n",
    "\n",
    "parser = lark.Lark(_GRAMMAR)\n",
    "transformer = _TreeShapeTransformer()\n",
    "\n",
    "tree = parser.parse('')\n",
    "print(tree)\n",
    "out = transformer.transform(tree)\n",
    "print(out)"
   ]
  },
  {
   "cell_type": "code",
   "execution_count": 5,
   "metadata": {},
   "outputs": [
    {
     "name": "stdout",
     "output_type": "stream",
     "text": [
      "Collecting lark\n",
      "  Downloading lark-1.1.2-py2.py3-none-any.whl (104 kB)\n",
      "\u001b[K     |████████████████████████████████| 104 kB 2.9 MB/s eta 0:00:01\n",
      "\u001b[?25hInstalling collected packages: lark\n",
      "Successfully installed lark-1.1.2\n",
      "\u001b[33mWARNING: You are using pip version 21.2.3; however, version 22.0.4 is available.\n",
      "You should consider upgrading via the '/Users/epot/.pyenv/versions/3.10.0/bin/python -m pip install --upgrade pip' command.\u001b[0m\n",
      "Note: you may need to restart the kernel to use updated packages.\n"
     ]
    }
   ],
   "source": [
    "%pip install lark"
   ]
  },
  {
   "cell_type": "code",
   "execution_count": null,
   "metadata": {},
   "outputs": [],
   "source": []
  }
 ],
 "metadata": {
  "interpreter": {
   "hash": "7704105adee8a27cb0b11ae687591985380bb1689ecb40e04bbea8c9b068f943"
  },
  "kernelspec": {
   "display_name": "Python 3.10.0 64-bit ('3.10.0')",
   "language": "python",
   "name": "python3"
  },
  "language_info": {
   "codemirror_mode": {
    "name": "ipython",
    "version": 3
   },
   "file_extension": ".py",
   "mimetype": "text/x-python",
   "name": "python",
   "nbconvert_exporter": "python",
   "pygments_lexer": "ipython3",
   "version": "3.10.0"
  },
  "orig_nbformat": 4
 },
 "nbformat": 4,
 "nbformat_minor": 2
}
