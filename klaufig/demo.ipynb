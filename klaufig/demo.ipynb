{
 "cells": [
  {
   "cell_type": "code",
   "execution_count": 1,
   "metadata": {},
   "outputs": [],
   "source": [
    "from chain_dict import *\n",
    "from config_dataclass import *"
   ]
  },
  {
   "cell_type": "code",
   "execution_count": 2,
   "metadata": {},
   "outputs": [
    {
     "data": {
      "text/plain": [
       "Experiment(jobs=[TpuJob(name='Job', replica=1)])"
      ]
     },
     "execution_count": 2,
     "metadata": {},
     "output_type": "execute_result"
    }
   ],
   "source": [
    "class Job(Configurable):\n",
    "    name: str = 'Job'\n",
    "    replica: int = 1\n",
    "\n",
    "\n",
    "class TpuJob(Job):\n",
    "    pass\n",
    "\n",
    "class CpuJob(Job):\n",
    "    pass\n",
    "\n",
    "class Experiment(Configurable):\n",
    "    jobs: list[Job] = (\n",
    "        Job(name='train'),\n",
    "        Job(name='test'),\n",
    "    )\n",
    "\n",
    "\n",
    "Experiment(jobs=[TpuJob()])"
   ]
  },
  {
   "cell_type": "code",
   "execution_count": 3,
   "metadata": {},
   "outputs": [
    {
     "name": "stdout",
     "output_type": "stream",
     "text": [
      "ChainConfig(\n",
      "    ConfigProxy(Experiment()),\n",
      "    ChainConfig(\n",
      "        ConfigDict(\n",
      "            Experiment.jobs[0].name='train'\n",
      "            Experiment.jobs[1].name='test'\n",
      "        ),\n",
      "        ConfigProxy(Job(\n",
      "            replica=5\n",
      "        )),\n",
      "    ),\n",
      "    DefaultConfig(wrapped_cls=<class '__main__.Experiment'>),\n",
      ")\n"
     ]
    },
    {
     "ename": "NotImplementedError",
     "evalue": "ConfigProxy.get",
     "output_type": "error",
     "traceback": [
      "\u001b[0;31m---------------------------------------------------------------------------\u001b[0m",
      "\u001b[0;31mNotImplementedError\u001b[0m                       Traceback (most recent call last)",
      "\u001b[1;32m/Users/epot/__A__/Code/pytypedoc/klaufig/demo.ipynb Cell 3'\u001b[0m in \u001b[0;36m<cell line: 9>\u001b[0;34m()\u001b[0m\n\u001b[1;32m      <a href='vscode-notebook-cell:/Users/epot/__A__/Code/pytypedoc/klaufig/demo.ipynb#ch0000001?line=0'>1</a>\u001b[0m config \u001b[39m=\u001b[39m ChainConfig(\n\u001b[1;32m      <a href='vscode-notebook-cell:/Users/epot/__A__/Code/pytypedoc/klaufig/demo.ipynb#ch0000001?line=1'>2</a>\u001b[0m     ConfigDict\u001b[39m.\u001b[39mfrom_dict({\n\u001b[1;32m      <a href='vscode-notebook-cell:/Users/epot/__A__/Code/pytypedoc/klaufig/demo.ipynb#ch0000001?line=2'>3</a>\u001b[0m         \u001b[39m'\u001b[39m\u001b[39mExperiment.jobs[0].name\u001b[39m\u001b[39m'\u001b[39m: \u001b[39m'\u001b[39m\u001b[39mtrain\u001b[39m\u001b[39m'\u001b[39m,\n\u001b[0;32m   (...)\u001b[0m\n\u001b[1;32m      <a href='vscode-notebook-cell:/Users/epot/__A__/Code/pytypedoc/klaufig/demo.ipynb#ch0000001?line=5'>6</a>\u001b[0m     Job\u001b[39m.\u001b[39mconfig(replica\u001b[39m=\u001b[39m\u001b[39m5\u001b[39m),\n\u001b[1;32m      <a href='vscode-notebook-cell:/Users/epot/__A__/Code/pytypedoc/klaufig/demo.ipynb#ch0000001?line=6'>7</a>\u001b[0m )\n\u001b[0;32m----> <a href='vscode-notebook-cell:/Users/epot/__A__/Code/pytypedoc/klaufig/demo.ipynb#ch0000001?line=8'>9</a>\u001b[0m xp \u001b[39m=\u001b[39m Experiment\u001b[39m.\u001b[39;49mfrom_config(config)\n",
      "File \u001b[0;32m~/__A__/Code/pytypedoc/klaufig/config_dataclass.py:127\u001b[0m, in \u001b[0;36mConfigurable.from_config\u001b[0;34m(cls, config, **kwargs)\u001b[0m\n\u001b[1;32m    <a href='file:///Users/epot/__A__/Code/pytypedoc/klaufig/config_dataclass.py?line=122'>123</a>\u001b[0m \u001b[39m# TODO: Finalize the config (initialize the tracking of:\u001b[39;00m\n\u001b[1;32m    <a href='file:///Users/epot/__A__/Code/pytypedoc/klaufig/config_dataclass.py?line=123'>124</a>\u001b[0m \u001b[39m# * Which param is unused\u001b[39;00m\n\u001b[1;32m    <a href='file:///Users/epot/__A__/Code/pytypedoc/klaufig/config_dataclass.py?line=124'>125</a>\u001b[0m \u001b[39m# * Which values are used\u001b[39;00m\n\u001b[1;32m    <a href='file:///Users/epot/__A__/Code/pytypedoc/klaufig/config_dataclass.py?line=125'>126</a>\u001b[0m \u001b[39mwith\u001b[39;00m config_context(merged_config):\n\u001b[0;32m--> <a href='file:///Users/epot/__A__/Code/pytypedoc/klaufig/config_dataclass.py?line=126'>127</a>\u001b[0m     \u001b[39mreturn\u001b[39;00m \u001b[39mcls\u001b[39;49m()\n",
      "File \u001b[0;32m~/__A__/Code/pytypedoc/klaufig/config_dataclass.py:89\u001b[0m, in \u001b[0;36mConfigurable.__init_subclass__.<locals>.__init__\u001b[0;34m(self, **kwargs)\u001b[0m\n\u001b[1;32m     <a href='file:///Users/epot/__A__/Code/pytypedoc/klaufig/config_dataclass.py?line=84'>85</a>\u001b[0m     \u001b[39mprint\u001b[39m(config)\n\u001b[1;32m     <a href='file:///Users/epot/__A__/Code/pytypedoc/klaufig/config_dataclass.py?line=85'>86</a>\u001b[0m     \u001b[39m# Inject all values\u001b[39;00m\n\u001b[1;32m     <a href='file:///Users/epot/__A__/Code/pytypedoc/klaufig/config_dataclass.py?line=86'>87</a>\u001b[0m     \u001b[39m# TODO(epot): Conflict with dataclass default factory & cie !!\u001b[39;00m\n\u001b[0;32m---> <a href='file:///Users/epot/__A__/Code/pytypedoc/klaufig/config_dataclass.py?line=88'>89</a>\u001b[0m     kwargs \u001b[39m=\u001b[39m {\n\u001b[1;32m     <a href='file:///Users/epot/__A__/Code/pytypedoc/klaufig/config_dataclass.py?line=89'>90</a>\u001b[0m         f\u001b[39m.\u001b[39mname: config[f\u001b[39m.\u001b[39mname]\u001b[39m.\u001b[39mbuild() \u001b[39mfor\u001b[39;00m f \u001b[39min\u001b[39;00m dataclasses\u001b[39m.\u001b[39mfields(\u001b[39mself\u001b[39m)\n\u001b[1;32m     <a href='file:///Users/epot/__A__/Code/pytypedoc/klaufig/config_dataclass.py?line=90'>91</a>\u001b[0m     }\n\u001b[1;32m     <a href='file:///Users/epot/__A__/Code/pytypedoc/klaufig/config_dataclass.py?line=91'>92</a>\u001b[0m     original_init(\u001b[39mself\u001b[39m, \u001b[39m*\u001b[39m\u001b[39m*\u001b[39mkwargs)\n\u001b[1;32m     <a href='file:///Users/epot/__A__/Code/pytypedoc/klaufig/config_dataclass.py?line=92'>93</a>\u001b[0m \u001b[39melse\u001b[39;00m:\n\u001b[1;32m     <a href='file:///Users/epot/__A__/Code/pytypedoc/klaufig/config_dataclass.py?line=93'>94</a>\u001b[0m     \u001b[39m# TODO: Save\u001b[39;00m\n",
      "File \u001b[0;32m~/__A__/Code/pytypedoc/klaufig/config_dataclass.py:90\u001b[0m, in \u001b[0;36m<dictcomp>\u001b[0;34m(.0)\u001b[0m\n\u001b[1;32m     <a href='file:///Users/epot/__A__/Code/pytypedoc/klaufig/config_dataclass.py?line=84'>85</a>\u001b[0m     \u001b[39mprint\u001b[39m(config)\n\u001b[1;32m     <a href='file:///Users/epot/__A__/Code/pytypedoc/klaufig/config_dataclass.py?line=85'>86</a>\u001b[0m     \u001b[39m# Inject all values\u001b[39;00m\n\u001b[1;32m     <a href='file:///Users/epot/__A__/Code/pytypedoc/klaufig/config_dataclass.py?line=86'>87</a>\u001b[0m     \u001b[39m# TODO(epot): Conflict with dataclass default factory & cie !!\u001b[39;00m\n\u001b[1;32m     <a href='file:///Users/epot/__A__/Code/pytypedoc/klaufig/config_dataclass.py?line=88'>89</a>\u001b[0m     kwargs \u001b[39m=\u001b[39m {\n\u001b[0;32m---> <a href='file:///Users/epot/__A__/Code/pytypedoc/klaufig/config_dataclass.py?line=89'>90</a>\u001b[0m         f\u001b[39m.\u001b[39mname: config[f\u001b[39m.\u001b[39;49mname]\u001b[39m.\u001b[39mbuild() \u001b[39mfor\u001b[39;00m f \u001b[39min\u001b[39;00m dataclasses\u001b[39m.\u001b[39mfields(\u001b[39mself\u001b[39m)\n\u001b[1;32m     <a href='file:///Users/epot/__A__/Code/pytypedoc/klaufig/config_dataclass.py?line=90'>91</a>\u001b[0m     }\n\u001b[1;32m     <a href='file:///Users/epot/__A__/Code/pytypedoc/klaufig/config_dataclass.py?line=91'>92</a>\u001b[0m     original_init(\u001b[39mself\u001b[39m, \u001b[39m*\u001b[39m\u001b[39m*\u001b[39mkwargs)\n\u001b[1;32m     <a href='file:///Users/epot/__A__/Code/pytypedoc/klaufig/config_dataclass.py?line=92'>93</a>\u001b[0m \u001b[39melse\u001b[39;00m:\n\u001b[1;32m     <a href='file:///Users/epot/__A__/Code/pytypedoc/klaufig/config_dataclass.py?line=93'>94</a>\u001b[0m     \u001b[39m# TODO: Save\u001b[39;00m\n",
      "File \u001b[0;32m~/__A__/Code/pytypedoc/klaufig/chain_dict.py:85\u001b[0m, in \u001b[0;36mChainConfig.__getitem__\u001b[0;34m(self, key)\u001b[0m\n\u001b[1;32m     <a href='file:///Users/epot/__A__/Code/pytypedoc/klaufig/chain_dict.py?line=82'>83</a>\u001b[0m \u001b[39mdef\u001b[39;00m \u001b[39m__getitem__\u001b[39m(\u001b[39mself\u001b[39m, key):\n\u001b[1;32m     <a href='file:///Users/epot/__A__/Code/pytypedoc/klaufig/chain_dict.py?line=83'>84</a>\u001b[0m     \u001b[39mfor\u001b[39;00m conf \u001b[39min\u001b[39;00m \u001b[39mself\u001b[39m\u001b[39m.\u001b[39mconfigs:\n\u001b[0;32m---> <a href='file:///Users/epot/__A__/Code/pytypedoc/klaufig/chain_dict.py?line=84'>85</a>\u001b[0m         \u001b[39mif\u001b[39;00m (value \u001b[39m:=\u001b[39m conf\u001b[39m.\u001b[39;49mget(key, missing)) \u001b[39m!=\u001b[39m missing:\n\u001b[1;32m     <a href='file:///Users/epot/__A__/Code/pytypedoc/klaufig/chain_dict.py?line=85'>86</a>\u001b[0m             \u001b[39m# TODO: Keep track of the value (in resolved)\u001b[39;00m\n\u001b[1;32m     <a href='file:///Users/epot/__A__/Code/pytypedoc/klaufig/chain_dict.py?line=86'>87</a>\u001b[0m             \u001b[39mreturn\u001b[39;00m value\n\u001b[1;32m     <a href='file:///Users/epot/__A__/Code/pytypedoc/klaufig/chain_dict.py?line=87'>88</a>\u001b[0m     \u001b[39mraise\u001b[39;00m \u001b[39mKeyError\u001b[39;00m(key)\n",
      "File \u001b[0;32m~/__A__/Code/pytypedoc/klaufig/chain_dict.py:53\u001b[0m, in \u001b[0;36mBaseConfig.get\u001b[0;34m(self, key, default)\u001b[0m\n\u001b[1;32m     <a href='file:///Users/epot/__A__/Code/pytypedoc/klaufig/chain_dict.py?line=51'>52</a>\u001b[0m \u001b[39mdef\u001b[39;00m \u001b[39mget\u001b[39m(\u001b[39mself\u001b[39m, key, default):\n\u001b[0;32m---> <a href='file:///Users/epot/__A__/Code/pytypedoc/klaufig/chain_dict.py?line=52'>53</a>\u001b[0m     \u001b[39mraise\u001b[39;00m \u001b[39mNotImplementedError\u001b[39;00m(\u001b[39mf\u001b[39m\u001b[39m\"\u001b[39m\u001b[39m{\u001b[39;00m\u001b[39mtype\u001b[39m(\u001b[39mself\u001b[39m)\u001b[39m.\u001b[39m\u001b[39m__qualname__\u001b[39m\u001b[39m}\u001b[39;00m\u001b[39m.get\u001b[39m\u001b[39m\"\u001b[39m)\n",
      "\u001b[0;31mNotImplementedError\u001b[0m: ConfigProxy.get"
     ]
    }
   ],
   "source": [
    "config = ChainConfig(\n",
    "    ConfigDict.from_dict({\n",
    "        'Experiment.jobs[0].name': 'train',\n",
    "        'Experiment.jobs[1].name': 'test',\n",
    "    }),\n",
    "    Job.config(replica=5),\n",
    ")\n",
    "\n",
    "xp = Experiment.from_config(config)"
   ]
  },
  {
   "cell_type": "code",
   "execution_count": null,
   "metadata": {},
   "outputs": [],
   "source": []
  }
 ],
 "metadata": {
  "interpreter": {
   "hash": "7704105adee8a27cb0b11ae687591985380bb1689ecb40e04bbea8c9b068f943"
  },
  "kernelspec": {
   "display_name": "Python 3.10.0 64-bit ('3.10.0')",
   "language": "python",
   "name": "python3"
  },
  "language_info": {
   "codemirror_mode": {
    "name": "ipython",
    "version": 3
   },
   "file_extension": ".py",
   "mimetype": "text/x-python",
   "name": "python",
   "nbconvert_exporter": "python",
   "pygments_lexer": "ipython3",
   "version": "3.10.0"
  },
  "orig_nbformat": 4
 },
 "nbformat": 4,
 "nbformat_minor": 2
}
